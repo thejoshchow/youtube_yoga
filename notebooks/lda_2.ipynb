{
 "cells": [
  {
   "cell_type": "code",
   "execution_count": 1,
   "metadata": {},
   "outputs": [],
   "source": [
    "# Importing modules\n",
    "import pandas as pd\n",
    "import numpy as np\n",
    "import os\n",
    "import re\n",
    "# LDA Model\n",
    "import gensim\n",
    "from gensim.utils import simple_preprocess\n",
    "import gensim.corpora as corpora\n",
    "from pprint import pprint\n",
    "from gensim.models import CoherenceModel\n",
    "import spacy\n",
    "from nltk.corpus import stopwords\n",
    "# Import the wordcloud library\n",
    "from wordcloud import WordCloud\n",
    "# Visualize the topics\n",
    "import pyLDAvis.gensim\n",
    "import pickle \n",
    "import pyLDAvis\n",
    "\n",
    "import warnings\n",
    "warnings.filterwarnings(\"ignore\",category=DeprecationWarning)"
   ]
  },
  {
   "cell_type": "code",
   "execution_count": 2,
   "metadata": {},
   "outputs": [],
   "source": [
    "df = pd.read_csv('../data/yoga.csv')"
   ]
  },
  {
   "cell_type": "code",
   "execution_count": 3,
   "metadata": {},
   "outputs": [
    {
     "data": {
      "text/html": [
       "<div>\n",
       "<style scoped>\n",
       "    .dataframe tbody tr th:only-of-type {\n",
       "        vertical-align: middle;\n",
       "    }\n",
       "\n",
       "    .dataframe tbody tr th {\n",
       "        vertical-align: top;\n",
       "    }\n",
       "\n",
       "    .dataframe thead th {\n",
       "        text-align: right;\n",
       "    }\n",
       "</style>\n",
       "<table border=\"1\" class=\"dataframe\">\n",
       "  <thead>\n",
       "    <tr style=\"text-align: right;\">\n",
       "      <th></th>\n",
       "      <th>id</th>\n",
       "      <th>title</th>\n",
       "      <th>description</th>\n",
       "      <th>channelTitle</th>\n",
       "      <th>tags</th>\n",
       "      <th>categoryId</th>\n",
       "      <th>duration</th>\n",
       "      <th>viewCount</th>\n",
       "      <th>likeCount</th>\n",
       "      <th>dislikeCount</th>\n",
       "      <th>commentCount</th>\n",
       "    </tr>\n",
       "  </thead>\n",
       "  <tbody>\n",
       "    <tr>\n",
       "      <th>0</th>\n",
       "      <td>sTANio_2E0Q</td>\n",
       "      <td>20 min Full Body STRETCH/YOGA for STRESS &amp; ANX...</td>\n",
       "      <td>De-stress with this 20 minute calming yoga rou...</td>\n",
       "      <td>MadFit</td>\n",
       "      <td>20 min full body stretch, full body stretch, s...</td>\n",
       "      <td>22</td>\n",
       "      <td>PT20M56S</td>\n",
       "      <td>5533960.0</td>\n",
       "      <td>105260.0</td>\n",
       "      <td>1727.0</td>\n",
       "      <td>3044.0</td>\n",
       "    </tr>\n",
       "    <tr>\n",
       "      <th>1</th>\n",
       "      <td>GLy2rYHwUqY</td>\n",
       "      <td>Total Body Yoga - Deep Stretch | Yoga With Adr...</td>\n",
       "      <td>Total Body Yoga is a deep stretch practice for...</td>\n",
       "      <td>Yoga With Adriene</td>\n",
       "      <td>total body yoga, yoga practice, yoga at home, ...</td>\n",
       "      <td>26</td>\n",
       "      <td>PT45M13S</td>\n",
       "      <td>13443080.0</td>\n",
       "      <td>131111.0</td>\n",
       "      <td>3301.0</td>\n",
       "      <td>5233.0</td>\n",
       "    </tr>\n",
       "    <tr>\n",
       "      <th>2</th>\n",
       "      <td>4pKly2JojMw</td>\n",
       "      <td>10 min Morning Yoga Full Body Stretch</td>\n",
       "      <td>Stretch out stiff, tired and achy muscles with...</td>\n",
       "      <td>Yoga with Kassandra</td>\n",
       "      <td>10 minute morning yoga, morning yoga routine, ...</td>\n",
       "      <td>26</td>\n",
       "      <td>PT10M56S</td>\n",
       "      <td>18857966.0</td>\n",
       "      <td>339861.0</td>\n",
       "      <td>4605.0</td>\n",
       "      <td>5564.0</td>\n",
       "    </tr>\n",
       "    <tr>\n",
       "      <th>3</th>\n",
       "      <td>b1H3xO3x_Js</td>\n",
       "      <td>Full Body Flow  |  20 Min. Yoga Practice  |  Y...</td>\n",
       "      <td>Set an intention and get ready to get the juic...</td>\n",
       "      <td>Yoga With Adriene</td>\n",
       "      <td>free yoga videos, yoga at home, morning yoga, ...</td>\n",
       "      <td>26</td>\n",
       "      <td>PT19M18S</td>\n",
       "      <td>6541616.0</td>\n",
       "      <td>65820.0</td>\n",
       "      <td>1335.0</td>\n",
       "      <td>2031.0</td>\n",
       "    </tr>\n",
       "    <tr>\n",
       "      <th>4</th>\n",
       "      <td>A0pkEgZiRG4</td>\n",
       "      <td>10 Minute Yoga Full Body Stretch</td>\n",
       "      <td>This is a 10 minute yoga full body stretch to ...</td>\n",
       "      <td>Yoga With Bird</td>\n",
       "      <td>yoga, yoga full body stretch, full body stretc...</td>\n",
       "      <td>26</td>\n",
       "      <td>PT10M7S</td>\n",
       "      <td>705284.0</td>\n",
       "      <td>13947.0</td>\n",
       "      <td>556.0</td>\n",
       "      <td>422.0</td>\n",
       "    </tr>\n",
       "  </tbody>\n",
       "</table>\n",
       "</div>"
      ],
      "text/plain": [
       "            id                                              title  \\\n",
       "0  sTANio_2E0Q  20 min Full Body STRETCH/YOGA for STRESS & ANX...   \n",
       "1  GLy2rYHwUqY  Total Body Yoga - Deep Stretch | Yoga With Adr...   \n",
       "2  4pKly2JojMw              10 min Morning Yoga Full Body Stretch   \n",
       "3  b1H3xO3x_Js  Full Body Flow  |  20 Min. Yoga Practice  |  Y...   \n",
       "4  A0pkEgZiRG4                   10 Minute Yoga Full Body Stretch   \n",
       "\n",
       "                                         description         channelTitle  \\\n",
       "0  De-stress with this 20 minute calming yoga rou...               MadFit   \n",
       "1  Total Body Yoga is a deep stretch practice for...    Yoga With Adriene   \n",
       "2  Stretch out stiff, tired and achy muscles with...  Yoga with Kassandra   \n",
       "3  Set an intention and get ready to get the juic...    Yoga With Adriene   \n",
       "4  This is a 10 minute yoga full body stretch to ...       Yoga With Bird   \n",
       "\n",
       "                                                tags  categoryId  duration  \\\n",
       "0  20 min full body stretch, full body stretch, s...          22  PT20M56S   \n",
       "1  total body yoga, yoga practice, yoga at home, ...          26  PT45M13S   \n",
       "2  10 minute morning yoga, morning yoga routine, ...          26  PT10M56S   \n",
       "3  free yoga videos, yoga at home, morning yoga, ...          26  PT19M18S   \n",
       "4  yoga, yoga full body stretch, full body stretc...          26   PT10M7S   \n",
       "\n",
       "    viewCount  likeCount  dislikeCount  commentCount  \n",
       "0   5533960.0   105260.0        1727.0        3044.0  \n",
       "1  13443080.0   131111.0        3301.0        5233.0  \n",
       "2  18857966.0   339861.0        4605.0        5564.0  \n",
       "3   6541616.0    65820.0        1335.0        2031.0  \n",
       "4    705284.0    13947.0         556.0         422.0  "
      ]
     },
     "execution_count": 3,
     "metadata": {},
     "output_type": "execute_result"
    }
   ],
   "source": [
    "df.head()"
   ]
  },
  {
   "cell_type": "code",
   "execution_count": 4,
   "metadata": {},
   "outputs": [],
   "source": [
    "df['description'].fillna('<no description>', inplace=True)\n",
    "df['tags'].fillna('<no tags>', inplace=True)"
   ]
  },
  {
   "cell_type": "code",
   "execution_count": 5,
   "metadata": {},
   "outputs": [],
   "source": [
    "def clean_text(text):\n",
    "    head, sep, tail = text.partition('\\n\\n')\n",
    "    return head"
   ]
  },
  {
   "cell_type": "code",
   "execution_count": 6,
   "metadata": {},
   "outputs": [],
   "source": [
    "df['description'] = df['description'].apply(clean_text)"
   ]
  },
  {
   "cell_type": "code",
   "execution_count": 7,
   "metadata": {},
   "outputs": [
    {
     "data": {
      "text/plain": [
       "'De-stress with this 20 minute calming yoga routine that includes light and easy full body stretches for stress relief and anxiety.'"
      ]
     },
     "execution_count": 7,
     "metadata": {},
     "output_type": "execute_result"
    }
   ],
   "source": [
    "df['description'][0]"
   ]
  },
  {
   "cell_type": "code",
   "execution_count": 8,
   "metadata": {},
   "outputs": [],
   "source": [
    "to_clean = ['title', 'description', 'tags']"
   ]
  },
  {
   "cell_type": "code",
   "execution_count": 9,
   "metadata": {},
   "outputs": [],
   "source": [
    "# remove english words\n",
    "for i in to_clean:\n",
    "    df[i] = df[i].map(lambda x: re.sub('([^\\x00-\\x7F])+','', x))"
   ]
  },
  {
   "cell_type": "code",
   "execution_count": 10,
   "metadata": {},
   "outputs": [],
   "source": [
    "df['documents'] = df['title'] + ' ' + df['description'] + ' ' + df['tags']"
   ]
  },
  {
   "cell_type": "code",
   "execution_count": 11,
   "metadata": {},
   "outputs": [],
   "source": [
    "df_ = df.sample(1000, random_state=1).reset_index()"
   ]
  },
  {
   "cell_type": "code",
   "execution_count": 139,
   "metadata": {},
   "outputs": [],
   "source": [
    "# tokenize\n",
    "def sent_to_words(sentences):\n",
    "    for sentence in sentences:\n",
    "        yield(gensim.utils.simple_preprocess(str(sentence), deacc=True)) # deacc=True removes punctuations and special characters\n",
    "\n",
    "\n",
    "\n",
    "yoga_stopwords = ['yoga', 'practice', 'guide', 'minute', 'beginner', 'beginners', 'exercise', 'morning', 'pose', 'full', 'tag', \n",
    "                  'video', 'hour', 'posture', 'stretch', 'help', 'pose', 'sequence', 'day', 'patreon', 'support', 'donate', \n",
    "                  'visit', 'https', 'http', 'www', 'session', 'class', 'body', 'workout', 'free', 'music', 'home', 'online',\n",
    "                  'child', 'calm', 'good', 'learn', 'teach', 'teacher', 'com', 'fightmaster', 'rain', 'equipment', 'series', \n",
    "                  'live', 'part', 'movie', 'total', 'description', 'kid', 'girl', 'life', 'well', 'enjoy', 'time', 'great', \n",
    "                  'new', 'find', 'use']\n",
    "# channel_stopwords = list(sent_to_words(df_['channelTitle'].unique().tolist()))\n",
    "# all_stopwords = []\n",
    "# for words in channel_stopwords:\n",
    "#     for word in words:\n",
    "#         all_stopwords.append(word)\n",
    "# all_stopwords.extend(yoga_stopwords)\n",
    "stop_words = stopwords.words('english')\n",
    "stop_words.extend(yoga_stopwords) #extend existing stop word list if needed\n",
    "\n",
    "data_words = list(sent_to_words(df_['documents']))"
   ]
  },
  {
   "cell_type": "code",
   "execution_count": 140,
   "metadata": {},
   "outputs": [],
   "source": [
    "# remove stopwords\n",
    "def remove_stopwords(texts):\n",
    "    return [[word for word in simple_preprocess(str(doc)) if word not in stop_words] for doc in texts]\n",
    "\n",
    "# Build the bigram \n",
    "bigram = gensim.models.Phrases(data_words, min_count=5, threshold=10) \n",
    "bigram_mod = gensim.models.phrases.Phraser(bigram)\n",
    "def make_bigrams(texts):\n",
    "    return [bigram_mod[doc] for doc in texts]\n",
    "\n",
    "# lemmatize\n",
    "nlp = spacy.load(\"en_core_web_sm\", disable=['parser', 'ner'])\n",
    "def lemmatization(texts, allowed_postags=['NOUN', 'ADJ', 'VERB', 'ADV']):\n",
    "    texts_out = []\n",
    "    for sent in texts:\n",
    "        doc = nlp(' '.join(sent)) \n",
    "        texts_out.append([token.lemma_ for token in doc if token.pos_ in allowed_postags])\n",
    "    return texts_out"
   ]
  },
  {
   "cell_type": "code",
   "execution_count": 141,
   "metadata": {},
   "outputs": [],
   "source": [
    "data_no_stop = remove_stopwords(data_words)    \n",
    "data_bigram = make_bigrams(data_no_stop)\n",
    "data_lemmatized = lemmatization(data_bigram)"
   ]
  },
  {
   "cell_type": "code",
   "execution_count": 142,
   "metadata": {},
   "outputs": [],
   "source": [
    "# Create Dictionary\n",
    "id2word = corpora.Dictionary(data_lemmatized)\n",
    "# Filter out tokens that appear in only 1 documents and appear in more than 90% of the documents\n",
    "id2word.filter_extremes(no_below=2, no_above=0.9)\n",
    "# Create Corpus\n",
    "texts = data_lemmatized\n",
    "# Term Document Frequency\n",
    "corpus = [id2word.doc2bow(text) for text in texts]"
   ]
  },
  {
   "cell_type": "code",
   "execution_count": 143,
   "metadata": {},
   "outputs": [
    {
     "data": {
      "image/png": "[encoded data removed]",
      "text/plain": [
       "<PIL.Image.Image image mode=RGB size=400x200 at 0x7FFD02604A90>"
      ]
     },
     "execution_count": 143,
     "metadata": {},
     "output_type": "execute_result"
    }
   ],
   "source": [
    "# Import the wordcloud library\n",
    "from wordcloud import WordCloud\n",
    "import itertools\n",
    "\n",
    "# Join the different processed titles together\n",
    "list_of_words = list(itertools.chain.from_iterable(data_lemmatized))\n",
    "long_string = ','.join(word for word in list_of_words)\n",
    "long_string\n",
    "\n",
    "# # Create a WordCloud object\n",
    "wordcloud = WordCloud(background_color=\"white\", max_words=1000, contour_width=3, contour_color='steelblue', collocations = False,  random_state=1)\n",
    "\n",
    "# # Generate a word cloud\n",
    "wordcloud.generate(long_string)\n",
    "\n",
    "# # Visualize the word cloud\n",
    "wordcloud.to_image()"
   ]
  },
  {
   "cell_type": "code",
   "execution_count": 144,
   "metadata": {},
   "outputs": [
    {
     "data": {
      "image/png": "[encoded data removed]",
      "text/plain": [
       "<Figure size 1152x432 with 1 Axes>"
      ]
     },
     "metadata": {
      "needs_background": "light"
     },
     "output_type": "display_data"
    }
   ],
   "source": [
    "import operator\n",
    "import matplotlib.pyplot as plt\n",
    "\n",
    "word_freq = []\n",
    "word_list = []\n",
    "count_dict = {}\n",
    "for n in id2word.values():\n",
    "    count_dict[n] = list_of_words.count(n)\n",
    "sorted_dict = sorted(count_dict.items(), key=operator.itemgetter(1), reverse=True)[0:10]\n",
    "\n",
    "plt.figure(figsize=(16,6))\n",
    "plt.bar(range(len(sorted_dict)), [val[1] for val in sorted_dict], align='center')\n",
    "plt.xticks(range(len(sorted_dict)), [val[0] for val in sorted_dict])\n",
    "plt.xticks(rotation=70)\n",
    "plt.xlabel('words')\n",
    "plt.ylabel('counts')\n",
    "\n",
    "# setting data labels\n",
    "ax = plt.gca()\n",
    "for p in ax.patches:\n",
    "    ax.text(p.get_x() + p.get_width()/2., p.get_height(), '%d' % int(p.get_height()), \n",
    "            fontsize=12, color='grey', ha='center', va='bottom')\n",
    "    \n",
    "plt.show()"
   ]
  },
  {
   "cell_type": "code",
   "execution_count": 148,
   "metadata": {},
   "outputs": [],
   "source": [
    "# build initial model\n",
    "lda_model = gensim.models.LdaMulticore(corpus=corpus,\n",
    "                                       id2word=id2word,\n",
    "                                       num_topics=20, \n",
    "                                       random_state=100,\n",
    "                                       chunksize=100,\n",
    "                                       passes=10,\n",
    "                                       per_word_topics=True)"
   ]
  },
  {
   "cell_type": "code",
   "execution_count": 149,
   "metadata": {},
   "outputs": [
    {
     "name": "stdout",
     "output_type": "stream",
     "text": [
      "[(0,\n",
      "  '0.293*\"pilate\" + 0.025*\"leg\" + 0.021*\"fitness\" + 0.018*\"core\" + '\n",
      "  '0.017*\"pilates\" + 0.016*\"exercise\" + 0.012*\"workout\" + 0.011*\"good\" + '\n",
      "  '0.010*\"routine\" + 0.009*\"pilates_fusion\"'),\n",
      " (1,\n",
      "  '0.047*\"chakra\" + 0.022*\"spiritual\" + 0.020*\"give\" + 0.019*\"class\" + '\n",
      "  '0.018*\"guide\" + 0.014*\"neck\" + 0.013*\"look\" + 0.012*\"meditation\" + '\n",
      "  '0.012*\"kundalini\" + 0.012*\"spirituality\"'),\n",
      " (2,\n",
      "  '0.046*\"prenatal\" + 0.045*\"pregnancy\" + 0.022*\"stretch\" + 0.018*\"pain\" + '\n",
      "  '0.018*\"exercise\" + 0.017*\"pregnant\" + 0.016*\"relief\" + 0.014*\"hip\" + '\n",
      "  '0.014*\"strengthen\" + 0.013*\"fitness\"'),\n",
      " (3,\n",
      "  '0.035*\"relax\" + 0.015*\"flow\" + 0.015*\"water\" + 0.014*\"flexibility\" + '\n",
      "  '0.013*\"challenge\" + 0.013*\"training\" + 0.013*\"calm\" + 0.013*\"strength\" + '\n",
      "  '0.012*\"breathwork\" + 0.011*\"length\"'),\n",
      " (4,\n",
      "  '0.034*\"restorative\" + 0.031*\"routine\" + 0.024*\"relaxation\" + 0.021*\"feel\" + '\n",
      "  '0.021*\"relax\" + 0.020*\"tension\" + 0.019*\"short\" + 0.016*\"stress\" + '\n",
      "  '0.014*\"deep\" + 0.013*\"challenge\"'),\n",
      " (5,\n",
      "  '0.024*\"deep\" + 0.023*\"restorative\" + 0.020*\"hold\" + 0.018*\"long\" + '\n",
      "  '0.018*\"release\" + 0.017*\"pose\" + 0.016*\"prop\" + 0.015*\"help\" + 0.014*\"also\" '\n",
      "  '+ 0.013*\"hot\"'),\n",
      " (6,\n",
      "  '0.037*\"sound\" + 0.031*\"movie\" + 0.027*\"sound_heale\" + 0.026*\"bowl\" + '\n",
      "  '0.024*\"talk\" + 0.022*\"healing\" + 0.019*\"meditation\" + 0.016*\"heal\" + '\n",
      "  '0.016*\"tuning\" + 0.013*\"tag\"'),\n",
      " (7,\n",
      "  '0.083*\"flow\" + 0.033*\"strength\" + 0.023*\"vinyasa\" + 0.021*\"minute\" + '\n",
      "  '0.020*\"vinyasa_flow\" + 0.017*\"power\" + 0.016*\"intermediate\" + '\n",
      "  '0.014*\"meditation\" + 0.014*\"balance\" + 0.014*\"strong\"'),\n",
      " (8,\n",
      "  '0.086*\"flow\" + 0.061*\"tag\" + 0.029*\"flexibility\" + 0.023*\"vinyasa_flow\" + '\n",
      "  '0.023*\"intermediate\" + 0.021*\"stretch\" + 0.017*\"minute\" + 0.017*\"cardio\" + '\n",
      "  '0.012*\"routine\" + 0.012*\"strength\"'),\n",
      " (9,\n",
      "  '0.049*\"stretch\" + 0.030*\"breathing\" + 0.025*\"flexibility\" + 0.021*\"breathe\" '\n",
      "  '+ 0.019*\"fitness\" + 0.016*\"health\" + 0.012*\"easy\" + 0.012*\"healthy\" + '\n",
      "  '0.012*\"constipation\" + 0.010*\"problem\"'),\n",
      " (10,\n",
      "  '0.022*\"flow\" + 0.018*\"weight_loss\" + 0.017*\"pose\" + 0.015*\"twist\" + '\n",
      "  '0.015*\"challenge\" + 0.014*\"big\" + 0.014*\"need\" + 0.013*\"begin\" + '\n",
      "  '0.013*\"complete\" + 0.010*\"program\"'),\n",
      " (11,\n",
      "  '0.036*\"sleep\" + 0.032*\"meditation\" + 0.023*\"powerful\" + 0.023*\"soothe\" + '\n",
      "  '0.013*\"relax\" + 0.012*\"study\" + 0.012*\"massage\" + 0.010*\"principiante\" + '\n",
      "  '0.010*\"energy\" + 0.009*\"teach\"'),\n",
      " (12,\n",
      "  '0.029*\"pain\" + 0.028*\"energy\" + 0.026*\"flow\" + 0.019*\"restorative\" + '\n",
      "  '0.016*\"slow\" + 0.016*\"stretch\" + 0.015*\"gentle\" + 0.015*\"good\" + '\n",
      "  '0.010*\"vinyasa_flow\" + 0.010*\"mind\"'),\n",
      " (13,\n",
      "  '0.029*\"anxiety\" + 0.027*\"mindful\" + 0.027*\"stress\" + 0.023*\"breath\" + '\n",
      "  '0.019*\"meditation\" + 0.015*\"relaxation\" + 0.015*\"restorative\" + '\n",
      "  '0.015*\"breathwork\" + 0.012*\"relax\" + 0.012*\"tag\"'),\n",
      " (14,\n",
      "  '0.034*\"prenatal\" + 0.017*\"breathwork\" + 0.016*\"training\" + 0.016*\"suffer\" + '\n",
      "  '0.014*\"restorative\" + 0.013*\"class\" + 0.013*\"experience\" + 0.012*\"sound\" + '\n",
      "  '0.011*\"condition\" + 0.011*\"pregnancy\"'),\n",
      " (15,\n",
      "  '0.051*\"day\" + 0.025*\"flow\" + 0.022*\"work\" + 0.020*\"lead\" + 0.018*\"trial\" + '\n",
      "  '0.014*\"open\" + 0.014*\"movement\" + 0.014*\"meditation\" + 0.014*\"class\" + '\n",
      "  '0.013*\"diabetes\"'),\n",
      " (16,\n",
      "  '0.102*\"meditation\" + 0.048*\"mindfulness\" + 0.035*\"relax\" + 0.018*\"sleep\" + '\n",
      "  '0.017*\"chakra\" + 0.017*\"sound\" + 0.015*\"relaxation\" + 0.015*\"kid\" + '\n",
      "  '0.011*\"awaken\" + 0.011*\"mindful\"'),\n",
      " (17,\n",
      "  '0.095*\"hatha\" + 0.041*\"flow\" + 0.037*\"kid\" + 0.029*\"happiness\" + '\n",
      "  '0.019*\"video\" + 0.016*\"mindfulness\" + 0.015*\"stress\" + 0.013*\"child\" + '\n",
      "  '0.010*\"song\" + 0.010*\"energy\"'),\n",
      " (18,\n",
      "  '0.026*\"arm\" + 0.021*\"primary\" + 0.020*\"guide\" + 0.013*\"chakra\" + '\n",
      "  '0.013*\"work\" + 0.012*\"sleep\" + 0.011*\"relaxation\" + 0.010*\"get\" + '\n",
      "  '0.010*\"back\" + 0.009*\"first\"'),\n",
      " (19,\n",
      "  '0.044*\"hatha\" + 0.017*\"mindfulness\" + 0.014*\"intermediate\" + 0.014*\"foot\" + '\n",
      "  '0.014*\"breathing\" + 0.013*\"breathe\" + 0.010*\"digestion\" + 0.010*\"woman\" + '\n",
      "  '0.010*\"hip\" + 0.010*\"weight_los\"')]\n"
     ]
    }
   ],
   "source": [
    "from pprint import pprint\n",
    "# Print the Keyword in the 10 topics\n",
    "pprint(lda_model.print_topics())\n",
    "doc_lda = lda_model[corpus]"
   ]
  },
  {
   "cell_type": "code",
   "execution_count": 150,
   "metadata": {},
   "outputs": [
    {
     "name": "stdout",
     "output_type": "stream",
     "text": [
      "\n",
      "Coherence Score:  0.370926629189691\n"
     ]
    }
   ],
   "source": [
    "from gensim.models import CoherenceModel\n",
    "# Compute Coherence Score\n",
    "coherence_model_lda = CoherenceModel(model=lda_model, texts=data_lemmatized, dictionary=id2word, coherence='c_v')\n",
    "coherence_lda = coherence_model_lda.get_coherence()\n",
    "print('\\nCoherence Score: ', coherence_lda)"
   ]
  },
  {
   "cell_type": "code",
   "execution_count": 151,
   "metadata": {},
   "outputs": [],
   "source": [
    "# tune hyperparameters\n",
    "# supporting function\n",
    "def compute_coherence_values(corpus, dictionary, k, a, b):\n",
    "    \n",
    "    lda_model = gensim.models.LdaMulticore(corpus=corpus,\n",
    "                                           id2word=dictionary,\n",
    "                                           num_topics=k, \n",
    "                                           random_state=100,\n",
    "                                           chunksize=100,\n",
    "                                           passes=10,\n",
    "                                           alpha=a,\n",
    "                                           eta=b)\n",
    "    \n",
    "    coherence_model_lda = CoherenceModel(model=lda_model, texts=data_lemmatized, dictionary=id2word, coherence='c_v')\n",
    "    \n",
    "    return coherence_model_lda.get_coherence()"
   ]
  },
  {
   "cell_type": "code",
   "execution_count": 152,
   "metadata": {},
   "outputs": [],
   "source": [
    "from sklearn.model_selection import GridSearchCV"
   ]
  },
  {
   "cell_type": "code",
   "execution_count": 153,
   "metadata": {},
   "outputs": [
    {
     "ename": "TypeError",
     "evalue": "__init__() missing 1 required positional argument: 'param_grid'",
     "output_type": "error",
     "traceback": [
      "\u001b[0;31m---------------------------------------------------------------------------\u001b[0m",
      "\u001b[0;31mTypeError\u001b[0m                                 Traceback (most recent call last)",
      "\u001b[0;32m<ipython-input-153-246ef1e66e2a>\u001b[0m in \u001b[0;36m<module>\u001b[0;34m\u001b[0m\n\u001b[0;32m----> 1\u001b[0;31m \u001b[0mGridSearchCV\u001b[0m\u001b[0;34m(\u001b[0m\u001b[0mlda_model\u001b[0m\u001b[0;34m)\u001b[0m\u001b[0;34m\u001b[0m\u001b[0;34m\u001b[0m\u001b[0m\n\u001b[0m",
      "\u001b[0;32m~/opt/anaconda3/lib/python3.7/site-packages/sklearn/utils/validation.py\u001b[0m in \u001b[0;36minner_f\u001b[0;34m(*args, **kwargs)\u001b[0m\n\u001b[1;32m     70\u001b[0m                           FutureWarning)\n\u001b[1;32m     71\u001b[0m         \u001b[0mkwargs\u001b[0m\u001b[0;34m.\u001b[0m\u001b[0mupdate\u001b[0m\u001b[0;34m(\u001b[0m\u001b[0;34m{\u001b[0m\u001b[0mk\u001b[0m\u001b[0;34m:\u001b[0m \u001b[0marg\u001b[0m \u001b[0;32mfor\u001b[0m \u001b[0mk\u001b[0m\u001b[0;34m,\u001b[0m \u001b[0marg\u001b[0m \u001b[0;32min\u001b[0m \u001b[0mzip\u001b[0m\u001b[0;34m(\u001b[0m\u001b[0msig\u001b[0m\u001b[0;34m.\u001b[0m\u001b[0mparameters\u001b[0m\u001b[0;34m,\u001b[0m \u001b[0margs\u001b[0m\u001b[0;34m)\u001b[0m\u001b[0;34m}\u001b[0m\u001b[0;34m)\u001b[0m\u001b[0;34m\u001b[0m\u001b[0;34m\u001b[0m\u001b[0m\n\u001b[0;32m---> 72\u001b[0;31m         \u001b[0;32mreturn\u001b[0m \u001b[0mf\u001b[0m\u001b[0;34m(\u001b[0m\u001b[0;34m**\u001b[0m\u001b[0mkwargs\u001b[0m\u001b[0;34m)\u001b[0m\u001b[0;34m\u001b[0m\u001b[0;34m\u001b[0m\u001b[0m\n\u001b[0m\u001b[1;32m     73\u001b[0m     \u001b[0;32mreturn\u001b[0m \u001b[0minner_f\u001b[0m\u001b[0;34m\u001b[0m\u001b[0;34m\u001b[0m\u001b[0m\n\u001b[1;32m     74\u001b[0m \u001b[0;34m\u001b[0m\u001b[0m\n",
      "\u001b[0;31mTypeError\u001b[0m: __init__() missing 1 required positional argument: 'param_grid'"
     ]
    }
   ],
   "source": [
    "grid = {min_topics=2}\n",
    "GridSearchCV(lda_model)"
   ]
  },
  {
   "cell_type": "code",
   "execution_count": 26,
   "metadata": {},
   "outputs": [
    {
     "name": "stderr",
     "output_type": "stream",
     "text": [
      "100%|██████████| 540/540 [14:20<00:00,  1.59s/it]\n"
     ]
    }
   ],
   "source": [
    "import tqdm\n",
    "grid = {}\n",
    "grid['Validation_Set'] = {}\n",
    "# Topics range\n",
    "min_topics = 2\n",
    "max_topics = 11\n",
    "step_size = 1\n",
    "topics_range = range(min_topics, max_topics, step_size)\n",
    "# Alpha parameter\n",
    "alpha = list(np.arange(0.01, 1, 0.3))\n",
    "alpha.append('symmetric')\n",
    "alpha.append('asymmetric')\n",
    "# Beta parameter\n",
    "beta = list(np.arange(0.01, 1, 0.3))\n",
    "beta.append('symmetric')\n",
    "# Validation sets\n",
    "num_of_docs = len(corpus)\n",
    "corpus_sets = [# gensim.utils.ClippedCorpus(corpus, num_of_docs*0.25), \n",
    "               # gensim.utils.ClippedCorpus(corpus, num_of_docs*0.5), \n",
    "               gensim.utils.ClippedCorpus(corpus, int(num_of_docs*0.75)), \n",
    "               corpus]\n",
    "corpus_title = ['75% Corpus', '100% Corpus']\n",
    "model_results = {'Validation_Set': [],\n",
    "                 'Topics': [],\n",
    "                 'Alpha': [],\n",
    "                 'Beta': [],\n",
    "                 'Coherence': []\n",
    "                }\n",
    "# Can take a long time to run\n",
    "if 1 == 1:\n",
    "    pbar = tqdm.tqdm(total=540)\n",
    "    \n",
    "    # iterate through validation corpuses\n",
    "    for i in range(len(corpus_sets)):\n",
    "        # iterate through number of topics\n",
    "        for k in topics_range:\n",
    "            # iterate through alpha values\n",
    "            for a in alpha:\n",
    "                # iterare through beta values\n",
    "                for b in beta:\n",
    "                    # get the coherence score for the given parameters\n",
    "                    cv = compute_coherence_values(corpus=corpus_sets[i], dictionary=id2word, \n",
    "                                                  k=k, a=a, b=b)\n",
    "                    # Save the model results\n",
    "                    model_results['Validation_Set'].append(corpus_title[i])\n",
    "                    model_results['Topics'].append(k)\n",
    "                    model_results['Alpha'].append(a)\n",
    "                    model_results['Beta'].append(b)\n",
    "                    model_results['Coherence'].append(cv)\n",
    "                    \n",
    "                    pbar.update(1)\n",
    "    pd.DataFrame(model_results).to_csv('lda_tuning_results.csv', index=False)\n",
    "    pbar.close()"
   ]
  },
  {
   "cell_type": "code",
   "execution_count": 38,
   "metadata": {},
   "outputs": [],
   "source": [
    "results = pd.DataFrame(model_results)"
   ]
  },
  {
   "cell_type": "code",
   "execution_count": 39,
   "metadata": {},
   "outputs": [
    {
     "data": {
      "text/html": [
       "<div>\n",
       "<style scoped>\n",
       "    .dataframe tbody tr th:only-of-type {\n",
       "        vertical-align: middle;\n",
       "    }\n",
       "\n",
       "    .dataframe tbody tr th {\n",
       "        vertical-align: top;\n",
       "    }\n",
       "\n",
       "    .dataframe thead th {\n",
       "        text-align: right;\n",
       "    }\n",
       "</style>\n",
       "<table border=\"1\" class=\"dataframe\">\n",
       "  <thead>\n",
       "    <tr style=\"text-align: right;\">\n",
       "      <th></th>\n",
       "      <th>Validation_Set</th>\n",
       "      <th>Topics</th>\n",
       "      <th>Alpha</th>\n",
       "      <th>Beta</th>\n",
       "      <th>Coherence</th>\n",
       "    </tr>\n",
       "  </thead>\n",
       "  <tbody>\n",
       "    <tr>\n",
       "      <th>0</th>\n",
       "      <td>75% Corpus</td>\n",
       "      <td>2</td>\n",
       "      <td>0.01</td>\n",
       "      <td>0.01</td>\n",
       "      <td>0.394415</td>\n",
       "    </tr>\n",
       "    <tr>\n",
       "      <th>1</th>\n",
       "      <td>75% Corpus</td>\n",
       "      <td>2</td>\n",
       "      <td>0.01</td>\n",
       "      <td>0.31</td>\n",
       "      <td>0.394415</td>\n",
       "    </tr>\n",
       "    <tr>\n",
       "      <th>2</th>\n",
       "      <td>75% Corpus</td>\n",
       "      <td>2</td>\n",
       "      <td>0.01</td>\n",
       "      <td>0.61</td>\n",
       "      <td>0.408774</td>\n",
       "    </tr>\n",
       "    <tr>\n",
       "      <th>3</th>\n",
       "      <td>75% Corpus</td>\n",
       "      <td>2</td>\n",
       "      <td>0.01</td>\n",
       "      <td>0.91</td>\n",
       "      <td>0.397002</td>\n",
       "    </tr>\n",
       "    <tr>\n",
       "      <th>4</th>\n",
       "      <td>75% Corpus</td>\n",
       "      <td>2</td>\n",
       "      <td>0.01</td>\n",
       "      <td>symmetric</td>\n",
       "      <td>0.394415</td>\n",
       "    </tr>\n",
       "  </tbody>\n",
       "</table>\n",
       "</div>"
      ],
      "text/plain": [
       "  Validation_Set  Topics Alpha       Beta  Coherence\n",
       "0     75% Corpus       2  0.01       0.01   0.394415\n",
       "1     75% Corpus       2  0.01       0.31   0.394415\n",
       "2     75% Corpus       2  0.01       0.61   0.408774\n",
       "3     75% Corpus       2  0.01       0.91   0.397002\n",
       "4     75% Corpus       2  0.01  symmetric   0.394415"
      ]
     },
     "execution_count": 39,
     "metadata": {},
     "output_type": "execute_result"
    }
   ],
   "source": [
    "results.head()"
   ]
  },
  {
   "cell_type": "code",
   "execution_count": 29,
   "metadata": {},
   "outputs": [
    {
     "data": {
      "text/html": [
       "<div>\n",
       "<style scoped>\n",
       "    .dataframe tbody tr th:only-of-type {\n",
       "        vertical-align: middle;\n",
       "    }\n",
       "\n",
       "    .dataframe tbody tr th {\n",
       "        vertical-align: top;\n",
       "    }\n",
       "\n",
       "    .dataframe thead th {\n",
       "        text-align: right;\n",
       "    }\n",
       "</style>\n",
       "<table border=\"1\" class=\"dataframe\">\n",
       "  <thead>\n",
       "    <tr style=\"text-align: right;\">\n",
       "      <th></th>\n",
       "      <th>Validation_Set</th>\n",
       "      <th>Topics</th>\n",
       "      <th>Alpha</th>\n",
       "      <th>Beta</th>\n",
       "      <th>Coherence</th>\n",
       "    </tr>\n",
       "  </thead>\n",
       "  <tbody>\n",
       "    <tr>\n",
       "      <th>0</th>\n",
       "      <td>75% Corpus</td>\n",
       "      <td>2</td>\n",
       "      <td>0.01</td>\n",
       "      <td>0.01</td>\n",
       "      <td>0.394415</td>\n",
       "    </tr>\n",
       "    <tr>\n",
       "      <th>30</th>\n",
       "      <td>75% Corpus</td>\n",
       "      <td>3</td>\n",
       "      <td>0.01</td>\n",
       "      <td>0.01</td>\n",
       "      <td>0.341816</td>\n",
       "    </tr>\n",
       "    <tr>\n",
       "      <th>60</th>\n",
       "      <td>75% Corpus</td>\n",
       "      <td>4</td>\n",
       "      <td>0.01</td>\n",
       "      <td>0.01</td>\n",
       "      <td>0.381495</td>\n",
       "    </tr>\n",
       "    <tr>\n",
       "      <th>90</th>\n",
       "      <td>75% Corpus</td>\n",
       "      <td>5</td>\n",
       "      <td>0.01</td>\n",
       "      <td>0.01</td>\n",
       "      <td>0.368847</td>\n",
       "    </tr>\n",
       "    <tr>\n",
       "      <th>120</th>\n",
       "      <td>75% Corpus</td>\n",
       "      <td>6</td>\n",
       "      <td>0.01</td>\n",
       "      <td>0.01</td>\n",
       "      <td>0.372465</td>\n",
       "    </tr>\n",
       "    <tr>\n",
       "      <th>150</th>\n",
       "      <td>75% Corpus</td>\n",
       "      <td>7</td>\n",
       "      <td>0.01</td>\n",
       "      <td>0.01</td>\n",
       "      <td>0.366562</td>\n",
       "    </tr>\n",
       "    <tr>\n",
       "      <th>180</th>\n",
       "      <td>75% Corpus</td>\n",
       "      <td>8</td>\n",
       "      <td>0.01</td>\n",
       "      <td>0.01</td>\n",
       "      <td>0.379629</td>\n",
       "    </tr>\n",
       "    <tr>\n",
       "      <th>210</th>\n",
       "      <td>75% Corpus</td>\n",
       "      <td>9</td>\n",
       "      <td>0.01</td>\n",
       "      <td>0.01</td>\n",
       "      <td>0.312478</td>\n",
       "    </tr>\n",
       "    <tr>\n",
       "      <th>240</th>\n",
       "      <td>75% Corpus</td>\n",
       "      <td>10</td>\n",
       "      <td>0.01</td>\n",
       "      <td>0.01</td>\n",
       "      <td>0.358312</td>\n",
       "    </tr>\n",
       "    <tr>\n",
       "      <th>270</th>\n",
       "      <td>100% Corpus</td>\n",
       "      <td>2</td>\n",
       "      <td>0.01</td>\n",
       "      <td>0.01</td>\n",
       "      <td>0.377676</td>\n",
       "    </tr>\n",
       "    <tr>\n",
       "      <th>300</th>\n",
       "      <td>100% Corpus</td>\n",
       "      <td>3</td>\n",
       "      <td>0.01</td>\n",
       "      <td>0.01</td>\n",
       "      <td>0.333043</td>\n",
       "    </tr>\n",
       "    <tr>\n",
       "      <th>330</th>\n",
       "      <td>100% Corpus</td>\n",
       "      <td>4</td>\n",
       "      <td>0.01</td>\n",
       "      <td>0.01</td>\n",
       "      <td>0.379994</td>\n",
       "    </tr>\n",
       "    <tr>\n",
       "      <th>360</th>\n",
       "      <td>100% Corpus</td>\n",
       "      <td>5</td>\n",
       "      <td>0.01</td>\n",
       "      <td>0.01</td>\n",
       "      <td>0.409120</td>\n",
       "    </tr>\n",
       "    <tr>\n",
       "      <th>390</th>\n",
       "      <td>100% Corpus</td>\n",
       "      <td>6</td>\n",
       "      <td>0.01</td>\n",
       "      <td>0.01</td>\n",
       "      <td>0.407568</td>\n",
       "    </tr>\n",
       "    <tr>\n",
       "      <th>420</th>\n",
       "      <td>100% Corpus</td>\n",
       "      <td>7</td>\n",
       "      <td>0.01</td>\n",
       "      <td>0.01</td>\n",
       "      <td>0.381084</td>\n",
       "    </tr>\n",
       "    <tr>\n",
       "      <th>450</th>\n",
       "      <td>100% Corpus</td>\n",
       "      <td>8</td>\n",
       "      <td>0.01</td>\n",
       "      <td>0.01</td>\n",
       "      <td>0.388426</td>\n",
       "    </tr>\n",
       "    <tr>\n",
       "      <th>480</th>\n",
       "      <td>100% Corpus</td>\n",
       "      <td>9</td>\n",
       "      <td>0.01</td>\n",
       "      <td>0.01</td>\n",
       "      <td>0.377856</td>\n",
       "    </tr>\n",
       "    <tr>\n",
       "      <th>510</th>\n",
       "      <td>100% Corpus</td>\n",
       "      <td>10</td>\n",
       "      <td>0.01</td>\n",
       "      <td>0.01</td>\n",
       "      <td>0.438267</td>\n",
       "    </tr>\n",
       "  </tbody>\n",
       "</table>\n",
       "</div>"
      ],
      "text/plain": [
       "    Validation_Set  Topics Alpha  Beta  Coherence\n",
       "0       75% Corpus       2  0.01  0.01   0.394415\n",
       "30      75% Corpus       3  0.01  0.01   0.341816\n",
       "60      75% Corpus       4  0.01  0.01   0.381495\n",
       "90      75% Corpus       5  0.01  0.01   0.368847\n",
       "120     75% Corpus       6  0.01  0.01   0.372465\n",
       "150     75% Corpus       7  0.01  0.01   0.366562\n",
       "180     75% Corpus       8  0.01  0.01   0.379629\n",
       "210     75% Corpus       9  0.01  0.01   0.312478\n",
       "240     75% Corpus      10  0.01  0.01   0.358312\n",
       "270    100% Corpus       2  0.01  0.01   0.377676\n",
       "300    100% Corpus       3  0.01  0.01   0.333043\n",
       "330    100% Corpus       4  0.01  0.01   0.379994\n",
       "360    100% Corpus       5  0.01  0.01   0.409120\n",
       "390    100% Corpus       6  0.01  0.01   0.407568\n",
       "420    100% Corpus       7  0.01  0.01   0.381084\n",
       "450    100% Corpus       8  0.01  0.01   0.388426\n",
       "480    100% Corpus       9  0.01  0.01   0.377856\n",
       "510    100% Corpus      10  0.01  0.01   0.438267"
      ]
     },
     "execution_count": 29,
     "metadata": {},
     "output_type": "execute_result"
    }
   ],
   "source": [
    "results.loc[(results['Alpha']==0.01) & (results['Beta']==0.01)]"
   ]
  },
  {
   "cell_type": "code",
   "execution_count": 30,
   "metadata": {},
   "outputs": [
    {
     "data": {
      "image/png": "[encoded data removed]",
      "text/plain": [
       "<Figure size 432x288 with 1 Axes>"
      ]
     },
     "metadata": {
      "needs_background": "light"
     },
     "output_type": "display_data"
    }
   ],
   "source": [
    "fig, ax = plt.subplots()\n",
    "ax = plt.plot('Topics', 'Coherence', data=(results.loc[(results['Validation_Set']=='75% Corpus') & (results['Alpha']==0.01) & (results['Beta']==0.01)]), color='red')\n",
    "ax = plt.plot('Topics', 'Coherence', data=(results.loc[(results['Validation_Set']=='100% Corpus') & (results['Alpha']==0.01) & (results['Beta']==0.01)]), color='blue')"
   ]
  },
  {
   "cell_type": "code",
   "execution_count": 31,
   "metadata": {},
   "outputs": [
    {
     "data": {
      "text/html": [
       "<div>\n",
       "<style scoped>\n",
       "    .dataframe tbody tr th:only-of-type {\n",
       "        vertical-align: middle;\n",
       "    }\n",
       "\n",
       "    .dataframe tbody tr th {\n",
       "        vertical-align: top;\n",
       "    }\n",
       "\n",
       "    .dataframe thead th {\n",
       "        text-align: right;\n",
       "    }\n",
       "</style>\n",
       "<table border=\"1\" class=\"dataframe\">\n",
       "  <thead>\n",
       "    <tr style=\"text-align: right;\">\n",
       "      <th></th>\n",
       "      <th>Validation_Set</th>\n",
       "      <th>Topics</th>\n",
       "      <th>Alpha</th>\n",
       "      <th>Beta</th>\n",
       "      <th>Coherence</th>\n",
       "    </tr>\n",
       "  </thead>\n",
       "  <tbody>\n",
       "    <tr>\n",
       "      <th>537</th>\n",
       "      <td>100% Corpus</td>\n",
       "      <td>10</td>\n",
       "      <td>asymmetric</td>\n",
       "      <td>0.61</td>\n",
       "      <td>0.464787</td>\n",
       "    </tr>\n",
       "  </tbody>\n",
       "</table>\n",
       "</div>"
      ],
      "text/plain": [
       "    Validation_Set  Topics       Alpha  Beta  Coherence\n",
       "537    100% Corpus      10  asymmetric  0.61   0.464787"
      ]
     },
     "execution_count": 31,
     "metadata": {},
     "output_type": "execute_result"
    }
   ],
   "source": [
    "results[(results['Validation_Set']=='100% Corpus') & (results['Coherence']==max(results['Coherence']))]"
   ]
  },
  {
   "cell_type": "code",
   "execution_count": 32,
   "metadata": {},
   "outputs": [],
   "source": [
    "# build model with tuned hyper-parameters\n",
    "lda_model = gensim.models.LdaMulticore(corpus=corpus,\n",
    "                                       id2word=id2word,\n",
    "                                       num_topics=10, \n",
    "                                       random_state=100,\n",
    "                                       chunksize=100,\n",
    "                                       passes=10,\n",
    "                                       alpha='asymmetric',\n",
    "                                       eta=0.6)"
   ]
  },
  {
   "cell_type": "code",
   "execution_count": 33,
   "metadata": {},
   "outputs": [
    {
     "name": "stdout",
     "output_type": "stream",
     "text": [
      "\n",
      "Coherence Score:  0.4647869893559541\n"
     ]
    }
   ],
   "source": [
    "# Compute Coherence Score\n",
    "coherence_model_lda = CoherenceModel(model=lda_model, texts=data_lemmatized, dictionary=id2word, coherence='c_v')\n",
    "coherence_lda = coherence_model_lda.get_coherence()\n",
    "print('\\nCoherence Score: ', coherence_lda)"
   ]
  },
  {
   "cell_type": "code",
   "execution_count": 34,
   "metadata": {},
   "outputs": [
    {
     "name": "stdout",
     "output_type": "stream",
     "text": [
      "[(0,\n",
      "  '0.030*\"tag\" + 0.019*\"anxiety\" + 0.011*\"description\" + 0.006*\"time\" + '\n",
      "  '0.006*\"arm\" + 0.006*\"basic\" + 0.005*\"posture\" + 0.005*\"include\" + '\n",
      "  '0.005*\"course\" + 0.005*\"sex\"'),\n",
      " (1,\n",
      "  '0.044*\"chakra\" + 0.019*\"restorative\" + 0.019*\"guide\" + 0.013*\"technique\" + '\n",
      "  '0.008*\"self\" + 0.008*\"anxiety\" + 0.008*\"exercise\" + 0.007*\"level\" + '\n",
      "  '0.006*\"need\" + 0.006*\"open\"'),\n",
      " (2,\n",
      "  '0.030*\"prenatal\" + 0.014*\"rain\" + 0.011*\"pregnant\" + 0.009*\"weight_loss\" + '\n",
      "  '0.008*\"principiante\" + 0.007*\"baby\" + 0.006*\"gentle\" + '\n",
      "  '0.006*\"pregnant_woman\" + 0.005*\"programa\" + 0.005*\"trimester\"'),\n",
      " (3,\n",
      "  '0.024*\"strength\" + 0.023*\"vinyasa\" + 0.019*\"stretch\" + 0.019*\"flexibility\" '\n",
      "  '+ 0.019*\"total\" + 0.014*\"leg\" + 0.012*\"exercise\" + 0.011*\"pose\" + '\n",
      "  '0.011*\"strong\" + 0.011*\"minute\"'),\n",
      " (4,\n",
      "  '0.041*\"guide\" + 0.010*\"anxiety\" + 0.009*\"well\" + 0.008*\"help\" + '\n",
      "  '0.007*\"pose\" + 0.006*\"time\" + 0.005*\"technique\" + 0.005*\"system\" + '\n",
      "  '0.005*\"restorative\" + 0.005*\"clase\"'),\n",
      " (5,\n",
      "  '0.019*\"restorative\" + 0.010*\"prop\" + 0.009*\"hold\" + 0.007*\"enjoy\" + '\n",
      "  '0.007*\"difference\" + 0.007*\"tag\" + 0.007*\"provide\" + 0.006*\"teach\" + '\n",
      "  '0.006*\"practice\" + 0.006*\"also\"'),\n",
      " (6,\n",
      "  '0.012*\"routine\" + 0.009*\"experience\" + 0.008*\"self\" + 0.007*\"create\" + '\n",
      "  '0.007*\"fusion\" + 0.007*\"exercise\" + 0.007*\"open\" + 0.007*\"short\" + '\n",
      "  '0.006*\"year\" + 0.006*\"step\"'),\n",
      " (7,\n",
      "  '0.009*\"movie\" + 0.008*\"day\" + 0.008*\"fill\" + 0.008*\"restorative\" + '\n",
      "  '0.006*\"bathtub\" + 0.006*\"playlist\" + 0.006*\"plant\" + 0.006*\"depression\" + '\n",
      "  '0.005*\"person\" + 0.005*\"tag\"'),\n",
      " (8,\n",
      "  '0.014*\"bowl\" + 0.012*\"talk\" + 0.008*\"time\" + 0.006*\"take\" + '\n",
      "  '0.005*\"unintentional\" + 0.005*\"endocrine\" + 0.005*\"frequency\" + '\n",
      "  '0.005*\"system\" + 0.005*\"give\" + 0.005*\"feel\"'),\n",
      " (9,\n",
      "  '0.021*\"pain\" + 0.018*\"tension\" + 0.015*\"good\" + 0.014*\"routine\" + '\n",
      "  '0.012*\"hip\" + 0.012*\"feel\" + 0.011*\"floor\" + 0.011*\"neck\" + 0.009*\"pose\" + '\n",
      "  '0.009*\"restorative\"')]\n"
     ]
    }
   ],
   "source": [
    "# Print the Keyword in the 10 topics\n",
    "pprint(lda_model.print_topics())\n",
    "doc_lda = lda_model[corpus]"
   ]
  },
  {
   "cell_type": "code",
   "execution_count": 35,
   "metadata": {},
   "outputs": [],
   "source": [
    "def Sort_Tuple(tup):  \n",
    "    return(sorted(tup, key = lambda x: x[1], reverse = True))"
   ]
  },
  {
   "cell_type": "code",
   "execution_count": 36,
   "metadata": {},
   "outputs": [
    {
     "name": "stdout",
     "output_type": "stream",
     "text": [
      "<gensim.interfaces.TransformedCorpus object at 0x7ffd0102bf90>\n"
     ]
    }
   ],
   "source": [
    "doc_num, topic_num, prob = [], [], []\n",
    "print(lda_model.get_document_topics(corpus))\n",
    "for n in range(len(df_)):\n",
    "    get_document_topics = lda_model.get_document_topics(corpus[n])\n",
    "    doc_num.append(n)\n",
    "    sorted_doc_topics = Sort_Tuple(get_document_topics)\n",
    "    topic_num.append(sorted_doc_topics[0][0])\n",
    "    prob.append(sorted_doc_topics[0][1])\n",
    "df_['Doc'] = doc_num\n",
    "df_['Topic'] = topic_num\n",
    "df_['Probability'] = prob\n",
    "df_.to_csv('doc_topic_matrix.csv', index=False)"
   ]
  },
  {
   "cell_type": "code",
   "execution_count": 37,
   "metadata": {},
   "outputs": [],
   "source": [
    "def recommend_by_storyline(title, df):\n",
    "    recommended = []\n",
    "    top10_list = []\n",
    "\n",
    "    title = title.lower()\n",
    "    df['title'] = df['title'].str.lower()\n",
    "    topic_num = df[df['title']==title].Topic.values\n",
    "    doc_num = df[df['title']==title].Doc.values \n",
    "\n",
    "    output_df = df[df['Topic']==topic_num[0]].sort_values('Probability', ascending=False).reset_index(drop=True)\n",
    "    index = output_df[output_df['Doc']==doc_num[0]].index[0]\n",
    "\n",
    "    top10_list += list(output_df.iloc[index-5:index].index)\n",
    "    top10_list += list(output_df.iloc[index+1:index+6].index)\n",
    "\n",
    "    output_df['title'] = output_df['title'].str.title()\n",
    "\n",
    "    for each in top10_list:\n",
    "        recommended.append(output_df.iloc[each].title)\n",
    "\n",
    "    return recommended"
   ]
  },
  {
   "cell_type": "code",
   "execution_count": 40,
   "metadata": {},
   "outputs": [
    {
     "data": {
      "text/plain": [
       "['__class__',\n",
       " '__delattr__',\n",
       " '__dict__',\n",
       " '__dir__',\n",
       " '__doc__',\n",
       " '__eq__',\n",
       " '__format__',\n",
       " '__ge__',\n",
       " '__getattribute__',\n",
       " '__getitem__',\n",
       " '__gt__',\n",
       " '__hash__',\n",
       " '__init__',\n",
       " '__init_subclass__',\n",
       " '__le__',\n",
       " '__lt__',\n",
       " '__module__',\n",
       " '__ne__',\n",
       " '__new__',\n",
       " '__reduce__',\n",
       " '__reduce_ex__',\n",
       " '__repr__',\n",
       " '__setattr__',\n",
       " '__sizeof__',\n",
       " '__slotnames__',\n",
       " '__str__',\n",
       " '__subclasshook__',\n",
       " '__weakref__',\n",
       " '_adapt_by_suffix',\n",
       " '_apply',\n",
       " '_load_specials',\n",
       " '_save_specials',\n",
       " '_smart_save',\n",
       " 'alpha',\n",
       " 'batch',\n",
       " 'bound',\n",
       " 'callbacks',\n",
       " 'chunksize',\n",
       " 'clear',\n",
       " 'decay',\n",
       " 'diff',\n",
       " 'dispatcher',\n",
       " 'distributed',\n",
       " 'do_estep',\n",
       " 'do_mstep',\n",
       " 'dtype',\n",
       " 'eta',\n",
       " 'eval_every',\n",
       " 'expElogbeta',\n",
       " 'gamma_threshold',\n",
       " 'get_document_topics',\n",
       " 'get_term_topics',\n",
       " 'get_topic_terms',\n",
       " 'get_topics',\n",
       " 'id2word',\n",
       " 'inference',\n",
       " 'init_dir_prior',\n",
       " 'iterations',\n",
       " 'load',\n",
       " 'log_perplexity',\n",
       " 'minimum_phi_value',\n",
       " 'minimum_probability',\n",
       " 'num_terms',\n",
       " 'num_topics',\n",
       " 'num_updates',\n",
       " 'numworkers',\n",
       " 'offset',\n",
       " 'optimize_alpha',\n",
       " 'optimize_eta',\n",
       " 'passes',\n",
       " 'per_word_topics',\n",
       " 'print_topic',\n",
       " 'print_topics',\n",
       " 'random_state',\n",
       " 'save',\n",
       " 'show_topic',\n",
       " 'show_topics',\n",
       " 'state',\n",
       " 'sync_state',\n",
       " 'top_topics',\n",
       " 'update',\n",
       " 'update_alpha',\n",
       " 'update_eta',\n",
       " 'update_every',\n",
       " 'workers']"
      ]
     },
     "execution_count": 40,
     "metadata": {},
     "output_type": "execute_result"
    }
   ],
   "source": [
    "dir(lda_model)"
   ]
  },
  {
   "cell_type": "code",
   "execution_count": null,
   "metadata": {},
   "outputs": [],
   "source": []
  }
 ],
 "metadata": {
  "kernelspec": {
   "display_name": "Python 3",
   "language": "python",
   "name": "python3"
  },
  "language_info": {
   "codemirror_mode": {
    "name": "ipython",
    "version": 3
   },
   "file_extension": ".py",
   "mimetype": "text/x-python",
   "name": "python",
   "nbconvert_exporter": "python",
   "pygments_lexer": "ipython3",
   "version": "3.7.7"
  }
 },
 "nbformat": 4,
 "nbformat_minor": 4
}
